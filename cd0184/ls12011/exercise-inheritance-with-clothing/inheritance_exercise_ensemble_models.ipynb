{
 "cells": [
  {
   "cell_type": "markdown",
   "metadata": {},
   "source": [
    "### Inheritance Exercise: Machine Learning Models\n",
    "\n",
    "In this exercise, you'll work with a `Model` parent class and several child classes representing different types of machine learning models. You'll implement methods to evaluate the models' performance, manage hyperparameters, and generate synthetic data for training.\n",
    "\n",
    "#### Objectives:\n",
    "- Understand and implement basic class inheritance and polymorphism in Python.\n",
    "- Learn how to evaluate model performance using statistical measures.\n",
    "- Generate synthetic data for training and testing machine learning models.\n",
    "\n",
    "#### Instructions:\n",
    "\n",
    "1. **Enhance the `Model` Class:**\n",
    "   - Add a method `calculate_accuracy` to calculate the accuracy of the model given predictions and true labels.\n",
    "   - Add a method `calculate_f1_score` to calculate the F1 score of the model given predictions and true labels.\n",
    "   - Add a method `generate_synthetic_data` that generates synthetic data following a Gaussian distribution.\n",
    "\n",
    "2. **Implement Specific Model Classes:**\n",
    "   - Create classes `DecisionTree`, `SVM`, and `NeuralNetwork` inheriting from `Model`.\n",
    "   - Each class should have specific attributes representing model parameters (e.g., `max_depth` for `DecisionTree`, `kernel` for `SVM`, `layers` for `NeuralNetwork`).\n",
    "\n",
    "3. **Implement the `EnsembleModel` Class:**\n",
    "   - Create the `EnsembleModel` class inheriting from `Model`.\n",
    "   - Include an attribute `models` which is a list of individual model instances.\n",
    "   - Add a method `calculate_ensemble_accuracy` to calculate the accuracy of the ensemble model using majority voting.\n",
    "\n",
    "4. **Unit Tests:**\n",
    "   - Ensure all methods are correctly implemented and tested.\n"
   ]
  },
  {
   "cell_type": "code",
   "execution_count": 1,
   "metadata": {},
   "outputs": [
    {
     "name": "stderr",
     "output_type": "stream",
     "text": [
      ".....\n",
      "----------------------------------------------------------------------\n",
      "Ran 5 tests in 0.012s\n",
      "\n",
      "OK\n"
     ]
    },
    {
     "name": "stdout",
     "output_type": "stream",
     "text": [
      "1.0\n"
     ]
    },
    {
     "data": {
      "text/plain": [
       "<unittest.runner.TextTestResult run=5 errors=0 failures=0>"
      ]
     },
     "execution_count": 1,
     "metadata": {},
     "output_type": "execute_result"
    }
   ],
   "source": [
    "import unittest\n",
    "import random\n",
    "import math\n",
    "from sklearn.metrics import accuracy_score, f1_score\n",
    "import numpy as np\n",
    "\n",
    "class Model:\n",
    "    \n",
    "    def __init__(self, name):\n",
    "        self.name = name\n",
    "    \n",
    "    def calculate_accuracy(self, y_true, y_pred):\n",
    "        return accuracy_score(y_true, y_pred)\n",
    "    \n",
    "    def calculate_f1_score(self, y_true, y_pred):\n",
    "        return f1_score(y_true, y_pred, average='weighted')\n",
    "    \n",
    "    def generate_synthetic_data(self, mean, std_dev, num_samples, num_features):\n",
    "        return np.random.normal(mean, std_dev, (num_samples, num_features))\n",
    "    \n",
    "class DecisionTree(Model):\n",
    "    \n",
    "    def __init__(self, name, max_depth):\n",
    "        super().__init__(name)\n",
    "        self.max_depth = max_depth\n",
    "    \n",
    "class SVM(Model):\n",
    "    \n",
    "    def __init__(self, name, kernel):\n",
    "        super().__init__(name)\n",
    "        self.kernel = kernel\n",
    "\n",
    "class NeuralNetwork(Model):\n",
    "    \n",
    "    def __init__(self, name, layers):\n",
    "        super().__init__(name)\n",
    "        self.layers = layers\n",
    "    \n",
    "class EnsembleModel(Model):\n",
    "    \n",
    "    def __init__(self, name, models):\n",
    "        super().__init__(name)\n",
    "        self.models = models\n",
    "    \n",
    "    def calculate_ensemble_accuracy(self, y_true, y_preds_list):\n",
    "        # Majority voting\n",
    "        y_preds = np.array(y_preds_list)\n",
    "        y_pred_majority = np.apply_along_axis(lambda x: np.argmax(np.bincount(x)), axis=0, arr=y_preds)\n",
    "        return self.calculate_accuracy(y_true, y_pred_majority)\n",
    "\n",
    "# Unit tests to check your solution\n",
    "\n",
    "class TestModelClass(unittest.TestCase):\n",
    "    def setUp(self):\n",
    "        self.model = Model('BaseModel')\n",
    "        self.decision_tree = DecisionTree('DecisionTree', 10)\n",
    "        self.svm = SVM('SVM', 'linear')\n",
    "        self.neural_network = NeuralNetwork('NeuralNetwork', [64, 32, 10])\n",
    "        self.ensemble = EnsembleModel('Ensemble', [self.decision_tree, self.svm, self.neural_network])\n",
    "        self.y_true = [0, 1, 1, 0, 1]\n",
    "        self.y_pred_tree = [0, 1, 1, 0, 0]\n",
    "        self.y_pred_svm = [1, 1, 0, 0, 1]\n",
    "        self.y_pred_nn = [0, 1, 1, 1, 1]\n",
    "        \n",
    "    def test_initialization(self): \n",
    "        self.assertEqual(self.model.name, 'BaseModel', 'Model name should be BaseModel')\n",
    "        self.assertEqual(self.decision_tree.max_depth, 10, 'Incorrect max_depth for DecisionTree')\n",
    "        self.assertEqual(self.svm.kernel, 'linear', 'Incorrect kernel for SVM')\n",
    "        self.assertEqual(self.neural_network.layers, [64, 32, 10], 'Incorrect layers for NeuralNetwork')\n",
    "        \n",
    "    def test_calculate_accuracy(self):\n",
    "        self.assertEqual(self.model.calculate_accuracy(self.y_true, self.y_pred_tree), 0.8, 'Accuracy calculation is incorrect')\n",
    "        \n",
    "    def test_calculate_f1_score(self):\n",
    "        self.assertAlmostEqual(self.model.calculate_f1_score(self.y_true, self.y_pred_tree), 0.8, places=1, msg='F1 score calculation is incorrect')\n",
    "        \n",
    "    def test_generate_synthetic_data(self):\n",
    "        mean = 0\n",
    "        std_dev = 1\n",
    "        num_samples = 100\n",
    "        num_features = 5\n",
    "        data = self.model.generate_synthetic_data(mean, std_dev, num_samples, num_features)\n",
    "        self.assertEqual(data.shape, (100, 5), 'Generated synthetic data shape is incorrect')\n",
    "        \n",
    "    def test_calculate_ensemble_accuracy(self):\n",
    "        y_preds_list = [self.y_pred_tree, self.y_pred_svm, self.y_pred_nn]\n",
    "        print(self.ensemble.calculate_ensemble_accuracy(self.y_true, y_preds_list))\n",
    "        self.assertAlmostEqual(self.ensemble.calculate_ensemble_accuracy(self.y_true, y_preds_list), 1.0, places=1, msg='Ensemble accuracy calculation is incorrect')\n",
    "\n",
    "tests = TestModelClass()\n",
    "\n",
    "tests_loaded = unittest.TestLoader().loadTestsFromModule(tests)\n",
    "\n",
    "unittest.TextTestRunner().run(tests_loaded)\n"
   ]
  }
 ],
 "metadata": {
  "kernelspec": {
   "display_name": "Python 3",
   "language": "python",
   "name": "python3"
  },
  "language_info": {
   "codemirror_mode": {
    "name": "ipython",
    "version": 3
   },
   "file_extension": ".py",
   "mimetype": "text/x-python",
   "name": "python",
   "nbconvert_exporter": "python",
   "pygments_lexer": "ipython3",
   "version": "3.12.5"
  }
 },
 "nbformat": 4,
 "nbformat_minor": 2
}
